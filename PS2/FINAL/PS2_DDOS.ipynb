{
  "nbformat": 4,
  "nbformat_minor": 0,
  "metadata": {
    "colab": {
      "name": "PS2_DDOS",
      "provenance": [],
      "collapsed_sections": [],
      "toc_visible": true,
      "machine_shape": "hm"
    },
    "kernelspec": {
      "name": "python3",
      "display_name": "Python 3"
    }
  },
  "cells": [
    {
      "cell_type": "code",
      "metadata": {
        "id": "YvGPUQaHhXfL",
        "colab_type": "code",
        "colab": {}
      },
      "source": [
        "import numpy as np\n",
        "import matplotlib.pyplot as plt\n",
        "import pandas as pd\n",
        "import tensorflow as tf\n",
        "from sklearn.metrics import f1_score\n",
        "import pickle\n",
        "from sklearn.metrics import confusion_matrix, accuracy_score\n",
        "from sklearn.model_selection import train_test_split\n",
        "from sklearn.preprocessing import StandardScaler\n",
        "from sklearn.ensemble import RandomForestClassifier\n",
        "from sklearn.impute import SimpleImputer"
      ],
      "execution_count": 16,
      "outputs": []
    },
    {
      "cell_type": "code",
      "metadata": {
        "id": "M52QDmyzhh9s",
        "colab_type": "code",
        "colab": {}
      },
      "source": [
        "dataset = pd.read_csv('benignDataset.csv')\n",
        "dataset = pd.read_csv(fileName)"
      ],
      "execution_count": 17,
      "outputs": []
    },
    {
      "cell_type": "code",
      "metadata": {
        "id": "3D5qQ5aHtYhG",
        "colab_type": "code",
        "colab": {}
      },
      "source": [
        "dataset = dataset.sample(frac = 1) #Randomize rows"
      ],
      "execution_count": 18,
      "outputs": []
    },
    {
      "cell_type": "code",
      "metadata": {
        "id": "cbe1O7RHr1Df",
        "colab_type": "code",
        "colab": {
          "base_uri": "https://localhost:8080/",
          "height": 143
        },
        "outputId": "66f71701-ace7-4439-a1c5-d71c3abce0c8"
      },
      "source": [
        "X = dataset.iloc[:, 3:].values\n",
        "y = dataset.iloc[:, 0:3].values\n",
        "print(y)"
      ],
      "execution_count": 19,
      "outputs": [
        {
          "output_type": "stream",
          "text": [
            "[[0 29 '192.168.4.2;96.235.184.222']\n",
            " [0 19 '192.168.1.2;93.100.107.139']\n",
            " [0 71 '118.157.117.194;192.168.4.2']\n",
            " ...\n",
            " [0 12 '72.178.78.123;192.168.4.2']\n",
            " [0 62 '192.168.4.2;58.173.232.140']\n",
            " [0 50 '207.161.124.221;192.168.4.2']]\n"
          ],
          "name": "stdout"
        }
      ]
    },
    {
      "cell_type": "code",
      "metadata": {
        "id": "ydjMZ9GNw2cp",
        "colab_type": "code",
        "colab": {}
      },
      "source": [
        "imputer = SimpleImputer(missing_values=0, strategy='mean')\n",
        "imputer.fit(X)\n",
        "X = imputer.transform(X)\n",
        "pickle.dump(imputer, open('imputer', 'wb'))"
      ],
      "execution_count": 20,
      "outputs": []
    },
    {
      "cell_type": "code",
      "metadata": {
        "id": "AVzJWAXIhxoC",
        "colab_type": "code",
        "colab": {}
      },
      "source": [
        "X_train, X_test, y_train, y_test = train_test_split(X, y, test_size = 0.01, random_state = 0)\n",
        "y_testLabel = y_test[:,2]\n",
        "y_train = y_train[:,0].astype(int)\n",
        "y_test = y_test[:,0].astype(int)"
      ],
      "execution_count": 21,
      "outputs": []
    },
    {
      "cell_type": "code",
      "metadata": {
        "id": "Tvfzt8hMazvM",
        "colab_type": "code",
        "colab": {}
      },
      "source": [
        "sc = StandardScaler()\n",
        "X_train = sc.fit_transform(X_train)\n",
        "X_test = sc.transform(X_test)\n",
        "pickle.dump(sc, open('sc', 'wb'))"
      ],
      "execution_count": 22,
      "outputs": []
    },
    {
      "cell_type": "code",
      "metadata": {
        "id": "e0pFVAmciHQs",
        "colab_type": "code",
        "colab": {}
      },
      "source": [
        "classifier = RandomForestClassifier(n_estimators = 10, criterion = 'entropy', random_state = 0)\n",
        "classifier.fit(X_train, y_train)\n",
        "pickle.dump(classifier, open('classifier', 'wb'))"
      ],
      "execution_count": 23,
      "outputs": []
    },
    {
      "cell_type": "code",
      "metadata": {
        "id": "p6VMTb2O4hwM",
        "colab_type": "code",
        "colab": {
          "base_uri": "https://localhost:8080/",
          "height": 35
        },
        "outputId": "ee1d1af7-39c9-4d40-e6fa-f0bbb387018c"
      },
      "source": [
        "y_pred = classifier.predict(X_test)\n",
        "print('Number of testing samples:', len(y_pred))\n"
      ],
      "execution_count": 24,
      "outputs": [
        {
          "output_type": "stream",
          "text": [
            "Number of testing samples: 10431\n"
          ],
          "name": "stdout"
        }
      ]
    },
    {
      "cell_type": "code",
      "metadata": {
        "id": "Z8ZJVIc7x8xT",
        "colab_type": "code",
        "colab": {
          "base_uri": "https://localhost:8080/",
          "height": 377
        },
        "outputId": "85c8d770-b8aa-4b32-8491-4b12f5abc086"
      },
      "source": [
        "print(y_testLabel[y_pred>0.5])\n",
        "maliciousIps = y_testLabel[y_pred>0.5]\n",
        "print(len(maliciousIps))\n",
        "f = open('output.csv','w')\n",
        "f.write('src,dst,output\\n')\n",
        "for label in maliciousIps:\n",
        "  splitIp = label.split(';')\n",
        "  src = splitIp[0]\n",
        "  dst = splitIp[1]\n",
        "  f.write(src + ',' + dst +',MALICIOUS\\n')"
      ],
      "execution_count": 25,
      "outputs": [
        {
          "output_type": "stream",
          "text": [
            "['192.168.50.7;172.217.10.66' '192.168.50.6;4.2.2.4'\n",
            " '192.168.50.8;204.154.111.127' '192.168.50.7;172.217.10.130'\n",
            " '192.168.50.6;172.217.7.1' '192.168.50.7;104.36.115.113'\n",
            " '192.168.50.253;224.0.0.5' '192.168.50.6;172.217.12.130'\n",
            " '192.168.50.7;172.217.12.162' '192.168.50.8;52.84.94.240'\n",
            " '172.16.0.5;192.168.50.1' '192.168.50.6;216.58.219.206'\n",
            " '192.168.50.253;224.0.0.5' '192.168.50.254;224.0.0.5'\n",
            " '192.168.50.7;216.58.219.193' '192.168.50.6;52.36.47.72'\n",
            " '192.168.50.6;173.194.175.108' '192.168.50.7;172.217.7.1'\n",
            " '192.168.4.2;60.25.162.26' '192.168.50.253;224.0.0.5'\n",
            " '192.168.50.7;172.217.3.98' '192.168.50.254;224.0.0.5'\n",
            " '192.168.50.8;172.217.10.110' '192.168.50.253;224.0.0.5'\n",
            " '192.168.50.6;8.8.8.8' '192.168.50.7;74.208.236.171'\n",
            " '192.168.50.7;172.217.12.131' '192.168.50.7;172.217.10.46'\n",
            " '192.168.50.7;172.217.10.10' '192.168.50.254;224.0.0.5'\n",
            " '192.168.50.6;23.194.140.15' '192.168.50.7;172.217.9.226'\n",
            " '192.168.50.8;172.217.10.34' '52.43.17.8;192.168.50.8'\n",
            " '192.168.50.8;54.187.144.104' '192.168.50.6;192.0.73.2'\n",
            " '192.168.50.6;8.8.8.8' '192.168.50.6;8.8.8.8']\n",
            "38\n"
          ],
          "name": "stdout"
        }
      ]
    },
    {
      "cell_type": "code",
      "metadata": {
        "id": "E2Q1_J3oaAkv",
        "colab_type": "code",
        "colab": {}
      },
      "source": [
        "# from google.colab import drive\n",
        "# drive.mount('/content/drive')"
      ],
      "execution_count": 26,
      "outputs": []
    },
    {
      "cell_type": "code",
      "metadata": {
        "id": "D6bpZwUiiXic",
        "colab_type": "code",
        "colab": {
          "base_uri": "https://localhost:8080/",
          "height": 107
        },
        "outputId": "1592649a-718e-4d66-c0df-25dd62124ea0"
      },
      "source": [
        "cm = confusion_matrix(y_test, y_pred)\n",
        "print('Confusion Matrix:')\n",
        "print(cm)\n",
        "print('Accuracy =', accuracy_score(y_test, y_pred))\n",
        "print('F1 score = '+ str(f1_score(y_test ,y_pred , average='weighted')))"
      ],
      "execution_count": 27,
      "outputs": [
        {
          "output_type": "stream",
          "text": [
            "Confusion Matrix:\n",
            "[[10388     1]\n",
            " [    5    37]]\n",
            "Accuracy = 0.999424791486914\n",
            "F1 score = 0.9994104666305024\n"
          ],
          "name": "stdout"
        }
      ]
    }
  ]
}
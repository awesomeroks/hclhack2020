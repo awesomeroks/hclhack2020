{
  "cells": [
    {
      "cell_type": "markdown",
      "metadata": {
        "id": "0MRC0e0KhQ0S",
        "colab_type": "text"
      },
      "source": [
        "# Random Forest Classification"
      ]
    },
    {
      "cell_type": "markdown",
      "metadata": {
        "id": "LWd1UlMnhT2s",
        "colab_type": "text"
      },
      "source": [
        "## Importing the libraries"
      ]
    },
    {
      "cell_type": "code",
      "metadata": {
        "id": "YvGPUQaHhXfL",
        "colab_type": "code",
        "colab": {}
      },
      "source": [
        "import numpy as np\n",
        "import matplotlib.pyplot as plt\n",
        "import pandas as pd\n",
        "import tensorflow as tf\n",
        "from sklearn.metrics import f1_score\n",
        "import pickle"
      ],
      "execution_count": 1575,
      "outputs": []
    },
    {
      "cell_type": "markdown",
      "metadata": {
        "id": "K1VMqkGvhc3-",
        "colab_type": "text"
      },
      "source": [
        "## Importing the dataset"
      ]
    },
    {
      "cell_type": "code",
      "metadata": {
        "id": "M52QDmyzhh9s",
        "colab_type": "code",
        "colab": {}
      },
      "source": [
        "dataset = pd.read_csv('dyna.csv')\n",
        "X = dataset.iloc[:, 1:-2].values\n",
        "y = dataset.iloc[:, -1].values"
      ],
      "execution_count": 1576,
      "outputs": []
    },
    {
      "cell_type": "code",
      "metadata": {
        "id": "vvoBPTHL3fNB",
        "colab_type": "code",
        "colab": {
          "base_uri": "https://localhost:8080/",
          "height": 71
        },
        "outputId": "862c6274-9d8c-4a1a-b24c-1dab65e13b27"
      },
      "source": [
        "print(X.shape)\n",
        "print(np.any(np.isnan(X)))\n",
        "print(np.all(np.isnan(X)))"
      ],
      "execution_count": 1577,
      "outputs": [
        {
          "output_type": "stream",
          "text": [
            "(3385, 308)\n",
            "False\n",
            "False\n"
          ],
          "name": "stdout"
        }
      ]
    },
    {
      "cell_type": "markdown",
      "metadata": {
        "id": "YvxIPVyMhmKp",
        "colab_type": "text"
      },
      "source": [
        "## Splitting the dataset into the Training set and Test set"
      ]
    },
    {
      "cell_type": "code",
      "metadata": {
        "id": "AVzJWAXIhxoC",
        "colab_type": "code",
        "colab": {}
      },
      "source": [
        "from sklearn.model_selection import train_test_split\n",
        "X_train, X_test, y_train, y_test = train_test_split(X, y, test_size = 0.25, random_state = 0)"
      ],
      "execution_count": 1578,
      "outputs": []
    },
    {
      "cell_type": "markdown",
      "metadata": {
        "id": "bb6jCOCQiAmP",
        "colab_type": "text"
      },
      "source": [
        "## Training the Random Forest Classification model on the Training set"
      ]
    },
    {
      "cell_type": "markdown",
      "metadata": {
        "id": "glIlW1UijWF2",
        "colab_type": "text"
      },
      "source": [
        "##APPLYING PCA FIRST"
      ]
    },
    {
      "cell_type": "code",
      "metadata": {
        "id": "75aouto5jcxx",
        "colab_type": "code",
        "colab": {
          "base_uri": "https://localhost:8080/",
          "height": 35
        },
        "outputId": "081e0ccd-f152-4ac9-90b4-56a0978dd0fb"
      },
      "source": [
        "from sklearn.decomposition import PCA\n",
        "pca = PCA(n_components = 230)\n",
        "#230, 180\n",
        "X_train = pca.fit_transform(X_train)\n",
        "# X_test = pca.transform(X_test)\n",
        "print(X_test.shape)\n",
        "\n"
      ],
      "execution_count": 1579,
      "outputs": [
        {
          "output_type": "stream",
          "text": [
            "(847, 308)\n"
          ],
          "name": "stdout"
        }
      ]
    },
    {
      "cell_type": "code",
      "metadata": {
        "id": "-nu6BypnSVBr",
        "colab_type": "code",
        "colab": {}
      },
      "source": [
        "filename = 'pcaDynamic.sav'\n",
        "pickle.dump(pca, open(filename, 'wb'))"
      ],
      "execution_count": 1580,
      "outputs": []
    },
    {
      "cell_type": "markdown",
      "metadata": {
        "id": "gFNnq2Umk-f-",
        "colab_type": "text"
      },
      "source": [
        "##Training Random forest"
      ]
    },
    {
      "cell_type": "code",
      "metadata": {
        "id": "e0pFVAmciHQs",
        "colab_type": "code",
        "colab": {
          "base_uri": "https://localhost:8080/",
          "height": 181
        },
        "outputId": "93510d69-062d-4668-d417-ec7d57f0fd96"
      },
      "source": [
        "from sklearn.ensemble import RandomForestClassifier\n",
        "classifier = RandomForestClassifier(n_estimators = 4, criterion = 'entropy', random_state = 0)\n",
        "classifier.fit(X_train, y_train)"
      ],
      "execution_count": 1581,
      "outputs": [
        {
          "output_type": "execute_result",
          "data": {
            "text/plain": [
              "RandomForestClassifier(bootstrap=True, ccp_alpha=0.0, class_weight=None,\n",
              "                       criterion='entropy', max_depth=None, max_features='auto',\n",
              "                       max_leaf_nodes=None, max_samples=None,\n",
              "                       min_impurity_decrease=0.0, min_impurity_split=None,\n",
              "                       min_samples_leaf=1, min_samples_split=2,\n",
              "                       min_weight_fraction_leaf=0.0, n_estimators=1,\n",
              "                       n_jobs=None, oob_score=False, random_state=0, verbose=0,\n",
              "                       warm_start=False)"
            ]
          },
          "metadata": {
            "tags": []
          },
          "execution_count": 1581
        }
      ]
    },
    {
      "cell_type": "code",
      "metadata": {
        "id": "ti1Nf0CeF7bG",
        "colab_type": "code",
        "colab": {}
      },
      "source": [
        "filename = 'dynamicAnalysisRandomForest.sav'\n",
        "pickle.dump(classifier, open(filename, 'wb'))"
      ],
      "execution_count": 1582,
      "outputs": []
    },
    {
      "cell_type": "code",
      "metadata": {
        "id": "rgOtBZArQKlW",
        "colab_type": "code",
        "colab": {
          "base_uri": "https://localhost:8080/",
          "height": 35
        },
        "outputId": "17f606d1-418e-4853-b166-aeddbe742fc9"
      },
      "source": [
        "dataset = pd.read_csv('tempDynamic.csv')\n",
        "X_predict = dataset.iloc[:, 1:-2].values\n",
        "\n",
        "X_predict = pca.transform(X_predict)\n",
        "y_label = dataset.iloc[:, -1].values\n",
        "\n",
        "y_pred = classifier.predict(X_predict)\n",
        "\n",
        "\n",
        "# print(np.concatenate((y_pred.reshape(len(y_pred),1), y_test.reshape(len(y_test),1)),1))\n",
        "\n",
        "print(accuracy_score([1 for i in range(len(y_pred))], y_pred))\n",
        "# print(accuracy_score(y_label, y_pred))"
      ],
      "execution_count": 1583,
      "outputs": [
        {
          "output_type": "stream",
          "text": [
            "0.7816849816849817\n"
          ],
          "name": "stdout"
        }
      ]
    },
    {
      "cell_type": "markdown",
      "metadata": {
        "id": "vKYVQH-l5NpE",
        "colab_type": "text"
      },
      "source": [
        "## Predicting the Test set results"
      ]
    },
    {
      "cell_type": "code",
      "metadata": {
        "id": "p6VMTb2O4hwM",
        "colab_type": "code",
        "colab": {}
      },
      "source": [
        "# y_pred = classifier.predict(X_test)\n",
        "# print(np.concatenate((y_pred.reshape(len(y_pred),1), y_test.reshape(len(y_test),1)),1))"
      ],
      "execution_count": 1584,
      "outputs": []
    },
    {
      "cell_type": "code",
      "metadata": {
        "id": "Z8ZJVIc7x8xT",
        "colab_type": "code",
        "colab": {}
      },
      "source": [
        ""
      ],
      "execution_count": 1584,
      "outputs": []
    },
    {
      "cell_type": "markdown",
      "metadata": {
        "id": "h4Hwj34ziWQW",
        "colab_type": "text"
      },
      "source": [
        "## Making the Confusion Matrix"
      ]
    },
    {
      "cell_type": "code",
      "metadata": {
        "id": "D6bpZwUiiXic",
        "colab_type": "code",
        "colab": {}
      },
      "source": [
        "# from sklearn.metrics import confusion_matrix, accuracy_score\n",
        "# cm = confusion_matrix(y_test, y_pred)\n",
        "# print(cm)\n",
        "# print(accuracy_score(y_test, y_pred))\n",
        "# print('f1_score ='+ str(f1_score(y_test ,y_pred , average='weighted')))"
      ],
      "execution_count": 1585,
      "outputs": []
    }
  ],
  "metadata": {
    "colab": {
      "name": "Dynamic_Analysis_hcl_r1",
      "provenance": [],
      "collapsed_sections": [],
      "machine_shape": "hm"
    },
    "kernelspec": {
      "name": "python3",
      "display_name": "Python 3"
    }
  },
  "nbformat": 4,
  "nbformat_minor": 0
}